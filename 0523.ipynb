{
  "nbformat": 4,
  "nbformat_minor": 0,
  "metadata": {
    "colab": {
      "name": "0523.ipynb",
      "provenance": [],
      "authorship_tag": "ABX9TyOwTjEIf7VPaRFxzsthU4Ef",
      "include_colab_link": true
    },
    "kernelspec": {
      "name": "python3",
      "display_name": "Python 3"
    },
    "language_info": {
      "name": "python"
    }
  },
  "cells": [
    {
      "cell_type": "markdown",
      "metadata": {
        "id": "view-in-github",
        "colab_type": "text"
      },
      "source": [
        "<a href=\"https://colab.research.google.com/github/CC6133/CC6133/blob/main/0523.ipynb\" target=\"_parent\"><img src=\"https://colab.research.google.com/assets/colab-badge.svg\" alt=\"Open In Colab\"/></a>"
      ]
    },
    {
      "cell_type": "code",
      "execution_count": null,
      "metadata": {
        "colab": {
          "base_uri": "https://localhost:8080/"
        },
        "id": "rbd7F1NY_sAT",
        "outputId": "77e7e19c-5108-4244-a000-6fa1075a5768"
      },
      "outputs": [
        {
          "output_type": "stream",
          "name": "stdout",
          "text": [
            "請輸入一個正整數:66\n",
            "1 到 66 的整數和為 2211\n"
          ]
        }
      ],
      "source": [
        "A=int(input('請輸入一個正整數:'))\n",
        "sum=0\n",
        "for n in range(1,A+1):\n",
        "  sum=sum+n\n",
        "print(1,'到',A,'的整數和為',sum)\n"
      ]
    },
    {
      "cell_type": "code",
      "source": [
        "A=int(input('請輸入一個正整數:'))\n",
        "sum=0\n",
        "for m in range(1,A+1,):\n",
        "  sum=sum+m\n",
        "  print(1,'到',str(m),'的整數和為',sum)"
      ],
      "metadata": {
        "colab": {
          "base_uri": "https://localhost:8080/"
        },
        "id": "Q9QYidqzBAhu",
        "outputId": "8fbe4617-8f34-41a2-d623-b972896338a4"
      },
      "execution_count": null,
      "outputs": [
        {
          "output_type": "stream",
          "name": "stdout",
          "text": [
            "請輸入一個正整數:123\n",
            "1 到 1 的整數和為 1\n",
            "1 到 2 的整數和為 3\n",
            "1 到 3 的整數和為 6\n",
            "1 到 4 的整數和為 10\n",
            "1 到 5 的整數和為 15\n",
            "1 到 6 的整數和為 21\n",
            "1 到 7 的整數和為 28\n",
            "1 到 8 的整數和為 36\n",
            "1 到 9 的整數和為 45\n",
            "1 到 10 的整數和為 55\n",
            "1 到 11 的整數和為 66\n",
            "1 到 12 的整數和為 78\n",
            "1 到 13 的整數和為 91\n",
            "1 到 14 的整數和為 105\n",
            "1 到 15 的整數和為 120\n",
            "1 到 16 的整數和為 136\n",
            "1 到 17 的整數和為 153\n",
            "1 到 18 的整數和為 171\n",
            "1 到 19 的整數和為 190\n",
            "1 到 20 的整數和為 210\n",
            "1 到 21 的整數和為 231\n",
            "1 到 22 的整數和為 253\n",
            "1 到 23 的整數和為 276\n",
            "1 到 24 的整數和為 300\n",
            "1 到 25 的整數和為 325\n",
            "1 到 26 的整數和為 351\n",
            "1 到 27 的整數和為 378\n",
            "1 到 28 的整數和為 406\n",
            "1 到 29 的整數和為 435\n",
            "1 到 30 的整數和為 465\n",
            "1 到 31 的整數和為 496\n",
            "1 到 32 的整數和為 528\n",
            "1 到 33 的整數和為 561\n",
            "1 到 34 的整數和為 595\n",
            "1 到 35 的整數和為 630\n",
            "1 到 36 的整數和為 666\n",
            "1 到 37 的整數和為 703\n",
            "1 到 38 的整數和為 741\n",
            "1 到 39 的整數和為 780\n",
            "1 到 40 的整數和為 820\n",
            "1 到 41 的整數和為 861\n",
            "1 到 42 的整數和為 903\n",
            "1 到 43 的整數和為 946\n",
            "1 到 44 的整數和為 990\n",
            "1 到 45 的整數和為 1035\n",
            "1 到 46 的整數和為 1081\n",
            "1 到 47 的整數和為 1128\n",
            "1 到 48 的整數和為 1176\n",
            "1 到 49 的整數和為 1225\n",
            "1 到 50 的整數和為 1275\n",
            "1 到 51 的整數和為 1326\n",
            "1 到 52 的整數和為 1378\n",
            "1 到 53 的整數和為 1431\n",
            "1 到 54 的整數和為 1485\n",
            "1 到 55 的整數和為 1540\n",
            "1 到 56 的整數和為 1596\n",
            "1 到 57 的整數和為 1653\n",
            "1 到 58 的整數和為 1711\n",
            "1 到 59 的整數和為 1770\n",
            "1 到 60 的整數和為 1830\n",
            "1 到 61 的整數和為 1891\n",
            "1 到 62 的整數和為 1953\n",
            "1 到 63 的整數和為 2016\n",
            "1 到 64 的整數和為 2080\n",
            "1 到 65 的整數和為 2145\n",
            "1 到 66 的整數和為 2211\n",
            "1 到 67 的整數和為 2278\n",
            "1 到 68 的整數和為 2346\n",
            "1 到 69 的整數和為 2415\n",
            "1 到 70 的整數和為 2485\n",
            "1 到 71 的整數和為 2556\n",
            "1 到 72 的整數和為 2628\n",
            "1 到 73 的整數和為 2701\n",
            "1 到 74 的整數和為 2775\n",
            "1 到 75 的整數和為 2850\n",
            "1 到 76 的整數和為 2926\n",
            "1 到 77 的整數和為 3003\n",
            "1 到 78 的整數和為 3081\n",
            "1 到 79 的整數和為 3160\n",
            "1 到 80 的整數和為 3240\n",
            "1 到 81 的整數和為 3321\n",
            "1 到 82 的整數和為 3403\n",
            "1 到 83 的整數和為 3486\n",
            "1 到 84 的整數和為 3570\n",
            "1 到 85 的整數和為 3655\n",
            "1 到 86 的整數和為 3741\n",
            "1 到 87 的整數和為 3828\n",
            "1 到 88 的整數和為 3916\n",
            "1 到 89 的整數和為 4005\n",
            "1 到 90 的整數和為 4095\n",
            "1 到 91 的整數和為 4186\n",
            "1 到 92 的整數和為 4278\n",
            "1 到 93 的整數和為 4371\n",
            "1 到 94 的整數和為 4465\n",
            "1 到 95 的整數和為 4560\n",
            "1 到 96 的整數和為 4656\n",
            "1 到 97 的整數和為 4753\n",
            "1 到 98 的整數和為 4851\n",
            "1 到 99 的整數和為 4950\n",
            "1 到 100 的整數和為 5050\n",
            "1 到 101 的整數和為 5151\n",
            "1 到 102 的整數和為 5253\n",
            "1 到 103 的整數和為 5356\n",
            "1 到 104 的整數和為 5460\n",
            "1 到 105 的整數和為 5565\n",
            "1 到 106 的整數和為 5671\n",
            "1 到 107 的整數和為 5778\n",
            "1 到 108 的整數和為 5886\n",
            "1 到 109 的整數和為 5995\n",
            "1 到 110 的整數和為 6105\n",
            "1 到 111 的整數和為 6216\n",
            "1 到 112 的整數和為 6328\n",
            "1 到 113 的整數和為 6441\n",
            "1 到 114 的整數和為 6555\n",
            "1 到 115 的整數和為 6670\n",
            "1 到 116 的整數和為 6786\n",
            "1 到 117 的整數和為 6903\n",
            "1 到 118 的整數和為 7021\n",
            "1 到 119 的整數和為 7140\n",
            "1 到 120 的整數和為 7260\n",
            "1 到 121 的整數和為 7381\n",
            "1 到 122 的整數和為 7503\n",
            "1 到 123 的整數和為 7626\n"
          ]
        }
      ]
    },
    {
      "cell_type": "code",
      "source": [
        "for j in range(1,5):\n",
        "  print(j)\n",
        "  for i in range(1,3):\n",
        "    k=i*j\n",
        "    print(j,'*',i,'=',k)"
      ],
      "metadata": {
        "colab": {
          "base_uri": "https://localhost:8080/"
        },
        "id": "giOYLbiOBG_Z",
        "outputId": "15c405bf-4a75-475f-d056-d78345918eb2"
      },
      "execution_count": null,
      "outputs": [
        {
          "output_type": "stream",
          "name": "stdout",
          "text": [
            "1\n",
            "1 * 1 = 1\n",
            "1 * 2 = 2\n",
            "2\n",
            "2 * 1 = 2\n",
            "2 * 2 = 4\n",
            "3\n",
            "3 * 1 = 3\n",
            "3 * 2 = 6\n",
            "4\n",
            "4 * 1 = 4\n",
            "4 * 2 = 8\n"
          ]
        }
      ]
    },
    {
      "cell_type": "code",
      "source": [
        "for j in range(1,6):\n",
        "  print(j)\n",
        "  for i in range(1,3):\n",
        "    k=i*j\n",
        "    print(j,'*',i,'=',k)"
      ],
      "metadata": {
        "colab": {
          "base_uri": "https://localhost:8080/"
        },
        "id": "auE6Eyc5D2Nn",
        "outputId": "cee1ab5c-8d47-4eb5-f0a0-4105efdf9d89"
      },
      "execution_count": null,
      "outputs": [
        {
          "output_type": "stream",
          "name": "stdout",
          "text": [
            "1\n",
            "1 * 1 = 1\n",
            "1 * 2 = 2\n",
            "2\n",
            "2 * 1 = 2\n",
            "2 * 2 = 4\n",
            "3\n",
            "3 * 1 = 3\n",
            "3 * 2 = 6\n",
            "4\n",
            "4 * 1 = 4\n",
            "4 * 2 = 8\n",
            "5\n",
            "5 * 1 = 5\n",
            "5 * 2 = 10\n"
          ]
        }
      ]
    },
    {
      "cell_type": "code",
      "source": [
        "for i in range(1,5):\n",
        "  if(i==4):\n",
        "    break\n",
        "  print(i,end='')"
      ],
      "metadata": {
        "colab": {
          "base_uri": "https://localhost:8080/"
        },
        "id": "Mm3-LkUKEb9u",
        "outputId": "910c5f21-d191-4b71-b027-eefffbaa6b55"
      },
      "execution_count": null,
      "outputs": [
        {
          "output_type": "stream",
          "name": "stdout",
          "text": [
            "123"
          ]
        }
      ]
    },
    {
      "cell_type": "code",
      "source": [
        "for i in range(1,5):\n",
        "  if(i==4):\n",
        "    continue\n",
        "  print(i,end='')"
      ],
      "metadata": {
        "colab": {
          "base_uri": "https://localhost:8080/"
        },
        "id": "_caGv8LXFOBO",
        "outputId": "88514956-4c58-40bd-a3d5-2ebe7c6af60c"
      },
      "execution_count": null,
      "outputs": [
        {
          "output_type": "stream",
          "name": "stdout",
          "text": [
            "123"
          ]
        }
      ]
    },
    {
      "cell_type": "code",
      "source": [
        "count=0\n",
        "for string in '測試看看!':\n",
        "  count+=1\n",
        "  if string=='看':\n",
        "    break\n",
        "  print(string)\n",
        "\n",
        "print('迴圈結束!')\n",
        "print('迴圈執行了%d次'%count)"
      ],
      "metadata": {
        "colab": {
          "base_uri": "https://localhost:8080/"
        },
        "id": "AnJjrAHvFvoi",
        "outputId": "a4853451-71b9-44a7-c6bd-242cdf7e2220"
      },
      "execution_count": null,
      "outputs": [
        {
          "output_type": "stream",
          "name": "stdout",
          "text": [
            "測\n",
            "試\n",
            "迴圈結束!\n",
            "迴圈執行了3次\n"
          ]
        }
      ]
    },
    {
      "cell_type": "code",
      "source": [
        "for i in range(2,10):\n",
        "  for j in range(1,10):\n",
        "    product=i*j\n",
        "    print('%d*%d=%2d   ' % (i, j, product), end='')\n",
        "  print()"
      ],
      "metadata": {
        "colab": {
          "base_uri": "https://localhost:8080/"
        },
        "id": "1PLSvLjlFEMh",
        "outputId": "b706e243-058c-4035-9d94-88c799271da7"
      },
      "execution_count": 1,
      "outputs": [
        {
          "output_type": "stream",
          "name": "stdout",
          "text": [
            "2*1= 2   2*2= 4   2*3= 6   2*4= 8   2*5=10   2*6=12   2*7=14   2*8=16   2*9=18   \n",
            "3*1= 3   3*2= 6   3*3= 9   3*4=12   3*5=15   3*6=18   3*7=21   3*8=24   3*9=27   \n",
            "4*1= 4   4*2= 8   4*3=12   4*4=16   4*5=20   4*6=24   4*7=28   4*8=32   4*9=36   \n",
            "5*1= 5   5*2=10   5*3=15   5*4=20   5*5=25   5*6=30   5*7=35   5*8=40   5*9=45   \n",
            "6*1= 6   6*2=12   6*3=18   6*4=24   6*5=30   6*6=36   6*7=42   6*8=48   6*9=54   \n",
            "7*1= 7   7*2=14   7*3=21   7*4=28   7*5=35   7*6=42   7*7=49   7*8=56   7*9=63   \n",
            "8*1= 8   8*2=16   8*3=24   8*4=32   8*5=40   8*6=48   8*7=56   8*8=64   8*9=72   \n",
            "9*1= 9   9*2=18   9*3=27   9*4=36   9*5=45   9*6=54   9*7=63   9*8=72   9*9=81   \n"
          ]
        }
      ]
    },
    {
      "cell_type": "code",
      "source": [
        "a=int(input('請輸入a的值'))\n",
        "b=int(input('請輸入b的值'))\n",
        "\n",
        "maxno=a*b\n",
        "for i in range(1,maxno+1):\n",
        "  if(i % a==0 and i % b==0):\n",
        "    break\n",
        "print('%d和%d的最小公倍數=%d'%(a,b,i))"
      ],
      "metadata": {
        "colab": {
          "base_uri": "https://localhost:8080/"
        },
        "id": "_11rpTuiFJEP",
        "outputId": "75f87a34-523a-483b-c05b-c7061a27ec41"
      },
      "execution_count": 2,
      "outputs": [
        {
          "output_type": "stream",
          "name": "stdout",
          "text": [
            "請輸入a的值4\n",
            "請輸入b的值5\n",
            "4和5的最小公倍數=20\n"
          ]
        }
      ]
    }
  ]
}